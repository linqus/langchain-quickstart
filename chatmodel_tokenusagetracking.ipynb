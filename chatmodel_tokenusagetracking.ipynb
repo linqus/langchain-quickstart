{
 "cells": [
  {
   "cell_type": "code",
   "execution_count": 1,
   "metadata": {},
   "outputs": [],
   "source": [
    "from langchain.callbacks import get_openai_callback\n",
    "from langchain_openai import ChatOpenAI"
   ]
  },
  {
   "cell_type": "code",
   "execution_count": 2,
   "metadata": {},
   "outputs": [],
   "source": [
    "llm = ChatOpenAI()"
   ]
  },
  {
   "cell_type": "code",
   "execution_count": 5,
   "metadata": {},
   "outputs": [
    {
     "name": "stdout",
     "output_type": "stream",
     "text": [
      "Tokens Used: 44\n",
      "\tPrompt Tokens: 17\n",
      "\tCompletion Tokens: 27\n",
      "Successful Requests: 1\n",
      "Total Cost (USD): $7.950000000000001e-05\n"
     ]
    }
   ],
   "source": [
    "with get_openai_callback() as cb:\n",
    "    result = llm.invoke(\"Opiwiedz jakiś dowcip\")\n",
    "    print(cb)"
   ]
  },
  {
   "cell_type": "code",
   "execution_count": 6,
   "metadata": {},
   "outputs": [
    {
     "name": "stdout",
     "output_type": "stream",
     "text": [
      "Tokens Used: 54\n",
      "\tPrompt Tokens: 22\n",
      "\tCompletion Tokens: 32\n",
      "Successful Requests: 2\n",
      "Total Cost (USD): $9.7e-05\n"
     ]
    }
   ],
   "source": [
    "with get_openai_callback() as cb:\n",
    "    result = llm.invoke(\"Tell me a joke\")\n",
    "    result2 = llm.invoke(\"Tell me a joke\")\n",
    "    print(cb)"
   ]
  },
  {
   "cell_type": "code",
   "execution_count": 6,
   "metadata": {},
   "outputs": [
    {
     "name": "stdout",
     "output_type": "stream",
     "text": [
      "Requirement already satisfied: google-search-results in c:\\users\\karol\\anaconda3\\envs\\langchain\\lib\\site-packages (2.4.2)\n",
      "Collecting numexpr\n",
      "  Downloading numexpr-2.9.0-cp311-cp311-win_amd64.whl.metadata (8.1 kB)\n",
      "Requirement already satisfied: requests in c:\\users\\karol\\anaconda3\\envs\\langchain\\lib\\site-packages (from google-search-results) (2.31.0)\n",
      "Requirement already satisfied: numpy>=1.13.3 in c:\\users\\karol\\anaconda3\\envs\\langchain\\lib\\site-packages (from numexpr) (1.26.4)\n",
      "Requirement already satisfied: charset-normalizer<4,>=2 in c:\\users\\karol\\anaconda3\\envs\\langchain\\lib\\site-packages (from requests->google-search-results) (3.3.2)\n",
      "Requirement already satisfied: idna<4,>=2.5 in c:\\users\\karol\\anaconda3\\envs\\langchain\\lib\\site-packages (from requests->google-search-results) (3.6)\n",
      "Requirement already satisfied: urllib3<3,>=1.21.1 in c:\\users\\karol\\anaconda3\\envs\\langchain\\lib\\site-packages (from requests->google-search-results) (2.2.0)\n",
      "Requirement already satisfied: certifi>=2017.4.17 in c:\\users\\karol\\anaconda3\\envs\\langchain\\lib\\site-packages (from requests->google-search-results) (2024.2.2)\n",
      "Downloading numexpr-2.9.0-cp311-cp311-win_amd64.whl (96 kB)\n",
      "   ---------------------------------------- 0.0/96.6 kB ? eta -:--:--\n",
      "   ---- ----------------------------------- 10.2/96.6 kB ? eta -:--:--\n",
      "   ------------ --------------------------- 30.7/96.6 kB 435.7 kB/s eta 0:00:01\n",
      "   -------------------------------------- - 92.2/96.6 kB 880.9 kB/s eta 0:00:01\n",
      "   ---------------------------------------- 96.6/96.6 kB 791.9 kB/s eta 0:00:00\n",
      "Installing collected packages: numexpr\n",
      "Successfully installed numexpr-2.9.0\n",
      "Note: you may need to restart the kernel to use updated packages.\n"
     ]
    }
   ],
   "source": [
    "%pip install google-search-results numexpr"
   ]
  },
  {
   "cell_type": "code",
   "execution_count": 9,
   "metadata": {},
   "outputs": [],
   "source": [
    "from langchain.agents import AgentType, initialize_agent, load_tools\n",
    "from langchain_openai import OpenAI\n",
    "\n",
    "tools = load_tools([\"serpapi\", \"llm-math\"], llm=llm)\n",
    "agent = initialize_agent(\n",
    "    tools, \n",
    "    llm, \n",
    "    agent=AgentType.ZERO_SHOT_REACT_DESCRIPTION, \n",
    "    verbose=True)"
   ]
  },
  {
   "cell_type": "code",
   "execution_count": 10,
   "metadata": {},
   "outputs": [
    {
     "name": "stdout",
     "output_type": "stream",
     "text": [
      "\n",
      "\n",
      "\u001b[1m> Entering new AgentExecutor chain...\u001b[0m\n",
      "\u001b[32;1m\u001b[1;3mI need to search for information about Olivia Wilde's current boyfriend and then calculate his age raised to the 0.23 power.\n",
      "Action: Search\n",
      "Action Input: \"Olivia Wilde boyfriend 2021\"\u001b[0m\n",
      "Observation: \u001b[36;1m\u001b[1;3mHarry Styles\u001b[0m\n",
      "Thought:\u001b[32;1m\u001b[1;3mNow I need to find Harry Styles' current age.\n",
      "Action: Search\n",
      "Action Input: \"Harry Styles current age 2021\"\u001b[0m\n",
      "Observation: \u001b[36;1m\u001b[1;3mAbout 27 years\u001b[0m\n",
      "Thought:\u001b[32;1m\u001b[1;3mI can now calculate 27 raised to the 0.23 power.\n",
      "Action: Calculator\n",
      "Action Input: 27^0.23\u001b[0m\n",
      "Observation: \u001b[33;1m\u001b[1;3mAnswer: 2.1340945944237553\u001b[0m\n",
      "Thought:\u001b[32;1m\u001b[1;3mI now know the final answer\n",
      "Final Answer: Harry Styles' current age raised to the 0.23 power is approximately 2.134.\u001b[0m\n",
      "\n",
      "\u001b[1m> Finished chain.\u001b[0m\n",
      "Total Tokens: 1365\n",
      "Prompt Tokens: 1215\n",
      "Completion Tokens: 150\n",
      "Total Cost (USD): $0.0021225\n"
     ]
    }
   ],
   "source": [
    "with get_openai_callback() as cb:\n",
    "    response = agent.run(\n",
    "        \"Who is Olivia Wilde's boyfriend? What is his current age raised to the 0.23 power?\"\n",
    "    )\n",
    "    print(f\"Total Tokens: {cb.total_tokens}\")\n",
    "    print(f\"Prompt Tokens: {cb.prompt_tokens}\")\n",
    "    print(f\"Completion Tokens: {cb.completion_tokens}\")\n",
    "    print(f\"Total Cost (USD): ${cb.total_cost}\")"
   ]
  }
 ],
 "metadata": {
  "kernelspec": {
   "display_name": "langchain",
   "language": "python",
   "name": "python3"
  },
  "language_info": {
   "codemirror_mode": {
    "name": "ipython",
    "version": 3
   },
   "file_extension": ".py",
   "mimetype": "text/x-python",
   "name": "python",
   "nbconvert_exporter": "python",
   "pygments_lexer": "ipython3",
   "version": "3.11.8"
  }
 },
 "nbformat": 4,
 "nbformat_minor": 2
}
