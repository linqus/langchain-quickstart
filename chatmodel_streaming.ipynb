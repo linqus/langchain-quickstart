{
 "cells": [
  {
   "cell_type": "code",
   "execution_count": 7,
   "metadata": {},
   "outputs": [
    {
     "name": "stdout",
     "output_type": "stream",
     "text": [
      "Złota rybko na księżycu,\n",
      "Lśnisz w blasku srebrnej nocy.\n",
      "Twoja łuska błyszczy cicho,\n",
      "Jak gwiazdki na niebie mocno.\n",
      "\n",
      "Wśród czarnych fal i białych chmur,\n",
      "Plączesz się w złocistej mgle.\n",
      "Twoje oczy pełne tęczy,\n",
      "Światem swoim zachwycają.\n",
      "\n",
      "I choć jesteś mała, drobna,\n",
      "Twój blask jest tak potężny.\n",
      "Na księżycu, wśród gwiazd błyszczy,\n",
      "Złota rybko, jesteś piękna."
     ]
    }
   ],
   "source": [
    "from langchain_openai import ChatOpenAI\n",
    "\n",
    "chat = ChatOpenAI()\n",
    "\n",
    "for chunk in chat.stream('Napisz wiersz o złotej rybce na księżycu w stylu Mirona Białoszewskiego'):\n",
    "    print(chunk.content,end=\"\", flush=True)\n"
   ]
  }
 ],
 "metadata": {
  "kernelspec": {
   "display_name": "langchain",
   "language": "python",
   "name": "python3"
  },
  "language_info": {
   "codemirror_mode": {
    "name": "ipython",
    "version": 3
   },
   "file_extension": ".py",
   "mimetype": "text/x-python",
   "name": "python",
   "nbconvert_exporter": "python",
   "pygments_lexer": "ipython3",
   "version": "3.11.8"
  }
 },
 "nbformat": 4,
 "nbformat_minor": 2
}
