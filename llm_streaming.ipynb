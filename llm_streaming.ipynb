{
 "cells": [
  {
   "cell_type": "code",
   "execution_count": 1,
   "metadata": {},
   "outputs": [
    {
     "name": "stdout",
     "output_type": "stream",
     "text": [
      "\n",
      "\n",
      "Refren:\n",
      "Woda gazowana, to moja miłość\n",
      "Bąbelki w niej, jak małe pocałunki\n",
      "Nie ma nic lepszego, w upalne dni\n",
      "Woda gazowana, to mój ratunek\n",
      "\n",
      "Zwrotka 1:\n",
      "Kiedy jestem spragniony, wody gazowanej szukam\n",
      "Bo jej smak jest wyjątkowy, nie do podrobienia\n",
      "Bąbelki tańczą w ustach, jakby chciały powiedzieć\n",
      "Że to właśnie ona, jest najlepszym wyborem\n",
      "\n",
      "Zwrotka 2:\n",
      "Niektórzy wolą wodę niegazowaną, ale ja nie mogę\n",
      "Bo bez bąbelków, to nie to samo\n",
      "Woda gazowana, to mój najlepszy przyjaciel\n",
      "W każdej sytuacji, zawsze jest ze mną\n",
      "\n",
      "Refren:\n",
      "Woda gazowana, to moja miłość\n",
      "Bąbelki w niej, jak małe pocałunki\n",
      "Nie ma nic lepszego, w upalne dni\n",
      "Woda gazowana, to mój ratunek\n",
      "\n",
      "Zwrotka 3:\n",
      "Niektórzy mówią, że woda gazowana szkodzi\n",
      "Ale ja w to nie wierzę, bo ona mnie odżywia\n",
      "Każdy łyk, to jak mały zastrzyk energii\n",
      "Dzięki niej, jestem pełen życia\n",
      "\n",
      "Zwrotka 4:\n",
      "Woda gazowana, to nie tylko picie\n",
      "To też świetny dodatek, do drinków i koktajli\n",
      "Nie ma nic lepszego, niż chłodna woda z bąbelkami\n",
      "To mój sekret, na udane imprezy\n",
      "\n",
      "Refren:\n",
      "Woda gazowana, to moja miłość\n",
      "Bąbelki w niej, jak małe pocałunki\n",
      "Nie ma nic lepszego, w upalne dni\n",
      "Woda gazowana, to mój ratunek\n",
      "\n",
      "Outro:\n",
      "Woda gazowana, to mój wybór\n",
      "Nie zamienię jej na nic innego\n",
      "Bo tylko ona, potrafi mnie or"
     ]
    }
   ],
   "source": [
    "from langchain_openai import OpenAI\n",
    "\n",
    "llm = OpenAI(model=\"gpt-3.5-turbo-instruct\", temperature=0, max_tokens=512)\n",
    "for chunk in llm.stream(\"Napisz piosenkę o wodzie gazowanej.\"):\n",
    "    print(chunk, end=\"\", flush=True)"
   ]
  }
 ],
 "metadata": {
  "kernelspec": {
   "display_name": "langchain",
   "language": "python",
   "name": "python3"
  },
  "language_info": {
   "codemirror_mode": {
    "name": "ipython",
    "version": 3
   },
   "file_extension": ".py",
   "mimetype": "text/x-python",
   "name": "python",
   "nbconvert_exporter": "python",
   "pygments_lexer": "ipython3",
   "version": "3.11.8"
  }
 },
 "nbformat": 4,
 "nbformat_minor": 2
}
