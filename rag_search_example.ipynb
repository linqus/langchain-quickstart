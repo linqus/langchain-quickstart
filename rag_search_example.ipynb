{
 "cells": [
  {
   "cell_type": "markdown",
   "metadata": {},
   "source": [
    "# Setup"
   ]
  },
  {
   "cell_type": "code",
   "execution_count": 1,
   "metadata": {},
   "outputs": [
    {
     "name": "stdout",
     "output_type": "stream",
     "text": [
      "Requirement already satisfied: python-dotenv in c:\\users\\karol\\anaconda3\\envs\\langchain\\lib\\site-packages (1.0.1)Note: you may need to restart the kernel to use updated packages.\n",
      "\n"
     ]
    },
    {
     "data": {
      "text/plain": [
       "True"
      ]
     },
     "execution_count": 1,
     "metadata": {},
     "output_type": "execute_result"
    }
   ],
   "source": [
    "%pip install python-dotenv\n",
    "from dotenv import load_dotenv\n",
    "load_dotenv()"
   ]
  },
  {
   "cell_type": "markdown",
   "metadata": {},
   "source": [
    "# RAG Search Example"
   ]
  },
  {
   "cell_type": "code",
   "execution_count": 8,
   "metadata": {},
   "outputs": [
    {
     "name": "stdout",
     "output_type": "stream",
     "text": [
      "Collecting langchain==0.1.7\n",
      "  Downloading langchain-0.1.7-py3-none-any.whl.metadata (13 kB)\n",
      "Requirement already satisfied: docarray in c:\\users\\karol\\anaconda3\\envs\\langchain\\lib\\site-packages (0.40.0)\n",
      "Requirement already satisfied: tiktoken in c:\\users\\karol\\anaconda3\\envs\\langchain\\lib\\site-packages (0.6.0)\n",
      "Requirement already satisfied: PyYAML>=5.3 in c:\\users\\karol\\anaconda3\\envs\\langchain\\lib\\site-packages (from langchain==0.1.7) (6.0.1)\n",
      "Requirement already satisfied: SQLAlchemy<3,>=1.4 in c:\\users\\karol\\anaconda3\\envs\\langchain\\lib\\site-packages (from langchain==0.1.7) (2.0.27)\n",
      "Requirement already satisfied: aiohttp<4.0.0,>=3.8.3 in c:\\users\\karol\\anaconda3\\envs\\langchain\\lib\\site-packages (from langchain==0.1.7) (3.9.3)\n",
      "Requirement already satisfied: dataclasses-json<0.7,>=0.5.7 in c:\\users\\karol\\anaconda3\\envs\\langchain\\lib\\site-packages (from langchain==0.1.7) (0.6.4)\n",
      "Requirement already satisfied: jsonpatch<2.0,>=1.33 in c:\\users\\karol\\anaconda3\\envs\\langchain\\lib\\site-packages (from langchain==0.1.7) (1.33)\n",
      "Collecting langchain-community<0.1,>=0.0.20 (from langchain==0.1.7)\n",
      "  Downloading langchain_community-0.0.20-py3-none-any.whl.metadata (8.1 kB)\n",
      "Requirement already satisfied: langchain-core<0.2,>=0.1.22 in c:\\users\\karol\\anaconda3\\envs\\langchain\\lib\\site-packages (from langchain==0.1.7) (0.1.22)\n",
      "Requirement already satisfied: langsmith<0.1,>=0.0.83 in c:\\users\\karol\\anaconda3\\envs\\langchain\\lib\\site-packages (from langchain==0.1.7) (0.0.87)\n",
      "Requirement already satisfied: numpy<2,>=1 in c:\\users\\karol\\anaconda3\\envs\\langchain\\lib\\site-packages (from langchain==0.1.7) (1.26.4)\n",
      "Requirement already satisfied: pydantic<3,>=1 in c:\\users\\karol\\anaconda3\\envs\\langchain\\lib\\site-packages (from langchain==0.1.7) (2.6.1)\n",
      "Requirement already satisfied: requests<3,>=2 in c:\\users\\karol\\anaconda3\\envs\\langchain\\lib\\site-packages (from langchain==0.1.7) (2.31.0)\n",
      "Requirement already satisfied: tenacity<9.0.0,>=8.1.0 in c:\\users\\karol\\anaconda3\\envs\\langchain\\lib\\site-packages (from langchain==0.1.7) (8.2.3)\n",
      "Requirement already satisfied: orjson>=3.8.2 in c:\\users\\karol\\anaconda3\\envs\\langchain\\lib\\site-packages (from docarray) (3.9.14)\n",
      "Requirement already satisfied: rich>=13.1.0 in c:\\users\\karol\\anaconda3\\envs\\langchain\\lib\\site-packages (from docarray) (13.7.0)\n",
      "Requirement already satisfied: types-requests>=2.28.11.6 in c:\\users\\karol\\anaconda3\\envs\\langchain\\lib\\site-packages (from docarray) (2.31.0.20240125)\n",
      "Requirement already satisfied: typing-inspect>=0.8.0 in c:\\users\\karol\\anaconda3\\envs\\langchain\\lib\\site-packages (from docarray) (0.9.0)\n",
      "Requirement already satisfied: regex>=2022.1.18 in c:\\users\\karol\\anaconda3\\envs\\langchain\\lib\\site-packages (from tiktoken) (2023.12.25)\n",
      "Requirement already satisfied: aiosignal>=1.1.2 in c:\\users\\karol\\anaconda3\\envs\\langchain\\lib\\site-packages (from aiohttp<4.0.0,>=3.8.3->langchain==0.1.7) (1.3.1)\n",
      "Requirement already satisfied: attrs>=17.3.0 in c:\\users\\karol\\anaconda3\\envs\\langchain\\lib\\site-packages (from aiohttp<4.0.0,>=3.8.3->langchain==0.1.7) (23.2.0)\n",
      "Requirement already satisfied: frozenlist>=1.1.1 in c:\\users\\karol\\anaconda3\\envs\\langchain\\lib\\site-packages (from aiohttp<4.0.0,>=3.8.3->langchain==0.1.7) (1.4.1)\n",
      "Requirement already satisfied: multidict<7.0,>=4.5 in c:\\users\\karol\\anaconda3\\envs\\langchain\\lib\\site-packages (from aiohttp<4.0.0,>=3.8.3->langchain==0.1.7) (6.0.5)\n",
      "Requirement already satisfied: yarl<2.0,>=1.0 in c:\\users\\karol\\anaconda3\\envs\\langchain\\lib\\site-packages (from aiohttp<4.0.0,>=3.8.3->langchain==0.1.7) (1.9.4)\n",
      "Requirement already satisfied: marshmallow<4.0.0,>=3.18.0 in c:\\users\\karol\\anaconda3\\envs\\langchain\\lib\\site-packages (from dataclasses-json<0.7,>=0.5.7->langchain==0.1.7) (3.20.2)\n",
      "Requirement already satisfied: jsonpointer>=1.9 in c:\\users\\karol\\anaconda3\\envs\\langchain\\lib\\site-packages (from jsonpatch<2.0,>=1.33->langchain==0.1.7) (2.4)\n",
      "Requirement already satisfied: anyio<5,>=3 in c:\\users\\karol\\anaconda3\\envs\\langchain\\lib\\site-packages (from langchain-core<0.2,>=0.1.22->langchain==0.1.7) (4.2.0)\n",
      "Requirement already satisfied: packaging<24.0,>=23.2 in c:\\users\\karol\\anaconda3\\envs\\langchain\\lib\\site-packages (from langchain-core<0.2,>=0.1.22->langchain==0.1.7) (23.2)\n",
      "Requirement already satisfied: annotated-types>=0.4.0 in c:\\users\\karol\\anaconda3\\envs\\langchain\\lib\\site-packages (from pydantic<3,>=1->langchain==0.1.7) (0.6.0)\n",
      "Requirement already satisfied: pydantic-core==2.16.2 in c:\\users\\karol\\anaconda3\\envs\\langchain\\lib\\site-packages (from pydantic<3,>=1->langchain==0.1.7) (2.16.2)\n",
      "Requirement already satisfied: typing-extensions>=4.6.1 in c:\\users\\karol\\anaconda3\\envs\\langchain\\lib\\site-packages (from pydantic<3,>=1->langchain==0.1.7) (4.9.0)\n",
      "Requirement already satisfied: charset-normalizer<4,>=2 in c:\\users\\karol\\anaconda3\\envs\\langchain\\lib\\site-packages (from requests<3,>=2->langchain==0.1.7) (3.3.2)\n",
      "Requirement already satisfied: idna<4,>=2.5 in c:\\users\\karol\\anaconda3\\envs\\langchain\\lib\\site-packages (from requests<3,>=2->langchain==0.1.7) (3.6)\n",
      "Requirement already satisfied: urllib3<3,>=1.21.1 in c:\\users\\karol\\anaconda3\\envs\\langchain\\lib\\site-packages (from requests<3,>=2->langchain==0.1.7) (2.2.0)\n",
      "Requirement already satisfied: certifi>=2017.4.17 in c:\\users\\karol\\anaconda3\\envs\\langchain\\lib\\site-packages (from requests<3,>=2->langchain==0.1.7) (2024.2.2)\n",
      "Requirement already satisfied: markdown-it-py>=2.2.0 in c:\\users\\karol\\anaconda3\\envs\\langchain\\lib\\site-packages (from rich>=13.1.0->docarray) (3.0.0)\n",
      "Requirement already satisfied: pygments<3.0.0,>=2.13.0 in c:\\users\\karol\\anaconda3\\envs\\langchain\\lib\\site-packages (from rich>=13.1.0->docarray) (2.17.2)\n",
      "Requirement already satisfied: greenlet!=0.4.17 in c:\\users\\karol\\anaconda3\\envs\\langchain\\lib\\site-packages (from SQLAlchemy<3,>=1.4->langchain==0.1.7) (3.0.3)\n",
      "Requirement already satisfied: mypy-extensions>=0.3.0 in c:\\users\\karol\\anaconda3\\envs\\langchain\\lib\\site-packages (from typing-inspect>=0.8.0->docarray) (1.0.0)\n",
      "Requirement already satisfied: sniffio>=1.1 in c:\\users\\karol\\anaconda3\\envs\\langchain\\lib\\site-packages (from anyio<5,>=3->langchain-core<0.2,>=0.1.22->langchain==0.1.7) (1.3.0)\n",
      "Requirement already satisfied: mdurl~=0.1 in c:\\users\\karol\\anaconda3\\envs\\langchain\\lib\\site-packages (from markdown-it-py>=2.2.0->rich>=13.1.0->docarray) (0.1.2)\n",
      "Downloading langchain-0.1.7-py3-none-any.whl (815 kB)\n",
      "   ---------------------------------------- 0.0/815.9 kB ? eta -:--:--\n",
      "    --------------------------------------- 10.2/815.9 kB ? eta -:--:--\n",
      "   ---- ----------------------------------- 81.9/815.9 kB 1.1 MB/s eta 0:00:01\n",
      "   ---------------- ----------------------- 337.9/815.9 kB 3.0 MB/s eta 0:00:01\n",
      "   ---------------------------------------  809.0/815.9 kB 5.1 MB/s eta 0:00:01\n",
      "   ---------------------------------------- 815.9/815.9 kB 4.7 MB/s eta 0:00:00\n",
      "Downloading langchain_community-0.0.20-py3-none-any.whl (1.7 MB)\n",
      "   ---------------------------------------- 0.0/1.7 MB ? eta -:--:--\n",
      "   ----------------- ---------------------- 0.7/1.7 MB 22.8 MB/s eta 0:00:01\n",
      "   ------------------------------------- -- 1.6/1.7 MB 19.8 MB/s eta 0:00:01\n",
      "   ---------------------------------------- 1.7/1.7 MB 15.3 MB/s eta 0:00:00\n",
      "Installing collected packages: langchain-community, langchain\n",
      "  Attempting uninstall: langchain-community\n",
      "    Found existing installation: langchain-community 0.0.19\n",
      "    Uninstalling langchain-community-0.0.19:\n",
      "      Successfully uninstalled langchain-community-0.0.19\n",
      "  Attempting uninstall: langchain\n",
      "    Found existing installation: langchain 0.1.6\n",
      "    Uninstalling langchain-0.1.6:\n",
      "      Successfully uninstalled langchain-0.1.6\n",
      "Successfully installed langchain-0.1.7 langchain-community-0.0.20\n",
      "Note: you may need to restart the kernel to use updated packages.\n"
     ]
    }
   ],
   "source": [
    "%pip install langchain==0.1.7 docarray tiktoken"
   ]
  },
  {
   "cell_type": "code",
   "execution_count": 12,
   "metadata": {},
   "outputs": [
    {
     "name": "stdout",
     "output_type": "stream",
     "text": [
      "Collecting pydantic==1.10.14\n",
      "  Downloading pydantic-1.10.14-cp311-cp311-win_amd64.whl.metadata (151 kB)\n",
      "     ---------------------------------------- 0.0/151.6 kB ? eta -:--:--\n",
      "     ---------------------------------------- 0.0/151.6 kB ? eta -:--:--\n",
      "     -- ------------------------------------- 10.2/151.6 kB ? eta -:--:--\n",
      "     ------- ----------------------------- 30.7/151.6 kB 330.3 kB/s eta 0:00:01\n",
      "     ------------------- ----------------- 81.9/151.6 kB 573.4 kB/s eta 0:00:01\n",
      "     ------------------------------------ 151.6/151.6 kB 905.9 kB/s eta 0:00:00\n",
      "Requirement already satisfied: typing-extensions>=4.2.0 in c:\\users\\karol\\anaconda3\\envs\\langchain\\lib\\site-packages (from pydantic==1.10.14) (4.9.0)\n",
      "Downloading pydantic-1.10.14-cp311-cp311-win_amd64.whl (2.1 MB)\n",
      "   ---------------------------------------- 0.0/2.1 MB ? eta -:--:--\n",
      "   ------- -------------------------------- 0.4/2.1 MB 12.6 MB/s eta 0:00:01\n",
      "   -------------- ------------------------- 0.8/2.1 MB 8.3 MB/s eta 0:00:01\n",
      "   ---------------------------------------  2.1/2.1 MB 14.9 MB/s eta 0:00:01\n",
      "   ---------------------------------------- 2.1/2.1 MB 13.5 MB/s eta 0:00:00\n",
      "Installing collected packages: pydantic\n",
      "  Attempting uninstall: pydantic\n",
      "    Found existing installation: pydantic 2.6.1\n",
      "    Uninstalling pydantic-2.6.1:\n",
      "      Successfully uninstalled pydantic-2.6.1\n",
      "Successfully installed pydantic-1.10.14\n",
      "Note: you may need to restart the kernel to use updated packages.\n"
     ]
    }
   ],
   "source": [
    "# workaround for an error with pydantic 2\n",
    "%pip install pydantic==1.10.14"
   ]
  },
  {
   "cell_type": "code",
   "execution_count": 2,
   "metadata": {},
   "outputs": [
    {
     "data": {
      "text/plain": [
       "'Harrison worked at Kensho.'"
      ]
     },
     "execution_count": 2,
     "metadata": {},
     "output_type": "execute_result"
    }
   ],
   "source": [
    "# Requires:\n",
    "# pip install langchain docarray tiktoken\n",
    "\n",
    "from langchain_community.vectorstores import DocArrayInMemorySearch\n",
    "from langchain_core.output_parsers import StrOutputParser\n",
    "from langchain_core.prompts import ChatPromptTemplate\n",
    "from langchain_core.runnables import RunnableParallel, RunnablePassthrough\n",
    "from langchain_openai.chat_models import ChatOpenAI\n",
    "from langchain_openai.embeddings import OpenAIEmbeddings\n",
    "\n",
    "vectorstore = DocArrayInMemorySearch.from_texts(\n",
    "    [\"harrison worked at kensho\", \"bears like to eat honey\"],\n",
    "    embedding=OpenAIEmbeddings(),\n",
    ")\n",
    "retriever = vectorstore.as_retriever()\n",
    "\n",
    "template = \"\"\"Answer the question based only on the following context:\n",
    "{context}\n",
    "\n",
    "Question: {question}\n",
    "\"\"\"\n",
    "prompt = ChatPromptTemplate.from_template(template)\n",
    "model = ChatOpenAI()\n",
    "output_parser = StrOutputParser()\n",
    "\n",
    "setup_and_retrieval = RunnableParallel(\n",
    "    {\"context\": retriever, \"question\": RunnablePassthrough()}\n",
    ")\n",
    "chain = setup_and_retrieval | prompt | model | output_parser\n",
    "\n",
    "chain.invoke(\"where did harrison work?\")"
   ]
  },
  {
   "cell_type": "code",
   "execution_count": 3,
   "metadata": {},
   "outputs": [
    {
     "data": {
      "text/plain": [
       "[Document(page_content='harrison worked at kensho'),\n",
       " Document(page_content='bears like to eat honey')]"
      ]
     },
     "execution_count": 3,
     "metadata": {},
     "output_type": "execute_result"
    }
   ],
   "source": [
    "retriever.invoke(\"where did harrison work?\")"
   ]
  },
  {
   "cell_type": "code",
   "execution_count": 5,
   "metadata": {},
   "outputs": [
    {
     "data": {
      "text/plain": [
       "[Document(page_content='bears like to eat honey'),\n",
       " Document(page_content='harrison worked at kensho')]"
      ]
     },
     "execution_count": 5,
     "metadata": {},
     "output_type": "execute_result"
    }
   ],
   "source": [
    "retriever.invoke('')"
   ]
  },
  {
   "cell_type": "code",
   "execution_count": 7,
   "metadata": {},
   "outputs": [
    {
     "data": {
      "text/plain": [
       "{\n",
       "  context: VectorStoreRetriever(tags=['DocArrayInMemorySearch'], vectorstore=<langchain_community.vectorstores.docarray.in_memory.DocArrayInMemorySearch object at 0x00000230F38071D0>),\n",
       "  question: RunnablePassthrough()\n",
       "}"
      ]
     },
     "execution_count": 7,
     "metadata": {},
     "output_type": "execute_result"
    }
   ],
   "source": [
    "setup_and_retrieval = RunnableParallel(\n",
    "    {\"context\": retriever, \"question\": RunnablePassthrough()}\n",
    ")\n",
    "setup_and_retrieval"
   ]
  },
  {
   "cell_type": "code",
   "execution_count": 11,
   "metadata": {},
   "outputs": [
    {
     "data": {
      "text/plain": [
       "{'context': [Document(page_content='bears like to eat honey'),\n",
       "  Document(page_content='harrison worked at kensho')],\n",
       " 'question': 'What is love?'}"
      ]
     },
     "execution_count": 11,
     "metadata": {},
     "output_type": "execute_result"
    }
   ],
   "source": [
    "setup_and_retrieval.invoke('What is love?')"
   ]
  },
  {
   "cell_type": "code",
   "execution_count": 12,
   "metadata": {},
   "outputs": [
    {
     "data": {
      "text/plain": [
       "ChatPromptValue(messages=[HumanMessage(content=\"Answer the question based only on the following context:\\n[Document(page_content='bears like to eat honey'), Document(page_content='harrison worked at kensho')]\\n\\nQuestion: What is love?\\n\")])"
      ]
     },
     "execution_count": 12,
     "metadata": {},
     "output_type": "execute_result"
    }
   ],
   "source": [
    "(setup_and_retrieval | prompt).invoke('What is love?')"
   ]
  }
 ],
 "metadata": {
  "kernelspec": {
   "display_name": "langchain",
   "language": "python",
   "name": "python3"
  },
  "language_info": {
   "codemirror_mode": {
    "name": "ipython",
    "version": 3
   },
   "file_extension": ".py",
   "mimetype": "text/x-python",
   "name": "python",
   "nbconvert_exporter": "python",
   "pygments_lexer": "ipython3",
   "version": "3.11.8"
  }
 },
 "nbformat": 4,
 "nbformat_minor": 2
}
