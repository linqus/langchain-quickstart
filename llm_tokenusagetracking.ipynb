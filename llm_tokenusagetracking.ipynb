{
 "cells": [
  {
   "cell_type": "code",
   "execution_count": 1,
   "metadata": {},
   "outputs": [],
   "source": [
    "from langchain.callbacks import get_openai_callback\n",
    "from langchain_openai import OpenAI"
   ]
  },
  {
   "cell_type": "code",
   "execution_count": 2,
   "metadata": {},
   "outputs": [],
   "source": [
    "llm = OpenAI(model_name=\"gpt-3.5-turbo-instruct\", n=2, best_of=2)"
   ]
  },
  {
   "cell_type": "code",
   "execution_count": 3,
   "metadata": {},
   "outputs": [
    {
     "name": "stdout",
     "output_type": "stream",
     "text": [
      "Tokens Used: 37\n",
      "\tPrompt Tokens: 4\n",
      "\tCompletion Tokens: 33\n",
      "Successful Requests: 1\n",
      "Total Cost (USD): $7.2e-05\n"
     ]
    }
   ],
   "source": [
    "with get_openai_callback() as cb:\n",
    "    result = llm.invoke(\"Tell me a joke\")\n",
    "    print(cb)"
   ]
  },
  {
   "cell_type": "code",
   "execution_count": 4,
   "metadata": {},
   "outputs": [
    {
     "name": "stdout",
     "output_type": "stream",
     "text": [
      "71\n"
     ]
    }
   ],
   "source": [
    "with get_openai_callback() as cb:\n",
    "    result = llm.invoke(\"Tell me a joke\")\n",
    "    result2 = llm.invoke(\"Tell me a joke\")\n",
    "    print(cb.total_tokens)"
   ]
  },
  {
   "cell_type": "code",
   "execution_count": 5,
   "metadata": {},
   "outputs": [
    {
     "name": "stderr",
     "output_type": "stream",
     "text": [
      "c:\\Users\\karol\\anaconda3\\envs\\langchain\\Lib\\site-packages\\langchain_core\\_api\\deprecation.py:117: LangChainDeprecationWarning: The function `initialize_agent` was deprecated in LangChain 0.1.0 and will be removed in 0.2.0. Use Use new agent constructor methods like create_react_agent, create_json_agent, create_structured_chat_agent, etc. instead.\n",
      "  warn_deprecated(\n"
     ]
    }
   ],
   "source": [
    "from langchain.agents import AgentType, initialize_agent, load_tools\n",
    "from langchain_openai import OpenAI\n",
    "\n",
    "llm = OpenAI(temperature=0)\n",
    "tools = load_tools([\"serpapi\", \"llm-math\"], llm=llm)\n",
    "agent = initialize_agent(\n",
    "    tools, llm, agent=AgentType.ZERO_SHOT_REACT_DESCRIPTION, verbose=True\n",
    ")"
   ]
  },
  {
   "cell_type": "code",
   "execution_count": 6,
   "metadata": {},
   "outputs": [
    {
     "name": "stderr",
     "output_type": "stream",
     "text": [
      "c:\\Users\\karol\\anaconda3\\envs\\langchain\\Lib\\site-packages\\langchain_core\\_api\\deprecation.py:117: LangChainDeprecationWarning: The function `run` was deprecated in LangChain 0.1.0 and will be removed in 0.2.0. Use invoke instead.\n",
      "  warn_deprecated(\n"
     ]
    },
    {
     "name": "stdout",
     "output_type": "stream",
     "text": [
      "\n",
      "\n",
      "\u001b[1m> Entering new AgentExecutor chain...\u001b[0m\n",
      "\u001b[32;1m\u001b[1;3m I should use a calculator to solve the second part of the question.\n",
      "Action: Calculator\n",
      "Action Input: 0.23\u001b[0m\n",
      "Observation: \u001b[33;1m\u001b[1;3mAnswer: 0.23\u001b[0m\n",
      "Thought:\u001b[32;1m\u001b[1;3m I should use a search engine to find the number of presidents in Warsaw.\n",
      "Action: Search\n",
      "Action Input: \"Number of presidents in Warsaw\"\u001b[0m\n",
      "Observation: \u001b[36;1m\u001b[1;3m[\"In Poland's first direct presidential election, Lech Wałęsa won and was sworn in on 22 December 1990. The office of the president was preserved in the ...\", \"The sole internationally recognised president of the exiled government was Władysław Raczkiewicz, who took office after Ignacy Mościcki's resignation in ...\", 'Met with President Kaczynski. June 8, 2007. Barack Obama, Warsaw, Met with President Komorowski and Prime Minister Tusk. May 27–28, 2011.', 'One year in- — one year into this war, Putin no longer doubts the strength of our coalition. But he still doubts our conviction. He doubts our ...', 'President Andrzej Duda: We are joined by a vivid memory of a great common legacy of freedom, by a magnificent tradition of struggle for self–determination and ...', \"Poland's Mateusz Morawiecki signs the oath of office as he is sworn in as prime minister. By —. Vanessa Gera, Associated Press ...\", 'The Palace was erected in the 1640s by the Great Crown Hetman Stanisław Koniecpolski and his son Aleksander, according to a design of Constantino Tencalla - a ...', 'The alliance of pro-EU parties has vowed to restore democratic standards. Its candidate for prime minister is Donald Tusk, the centrist and ...', \"Drawing massive attention at the time, the President's motorcade comprised of 40 Mercs whilst 150 people were employed to ensure every detail during his speech ...\", \"WARSAW, Poland (AP) — Poland's new prime minister, Donald Tusk, and his Cabinet members took office Wednesday after they were sworn in by ...\"]\u001b[0m\n",
      "Thought:\u001b[32;1m\u001b[1;3m I should count the number of mentions of presidents in the search results.\n",
      "Action: Count\n",
      "Action Input: \"president\"\u001b[0m\n",
      "Observation: Count is not a valid tool, try one of [Search, Calculator].\n",
      "Thought:\u001b[32;1m\u001b[1;3m I should use a calculator to solve the first part of the question.\n",
      "Action: Calculator\n",
      "Action Input: 10\u001b[0m\n",
      "Observation: \u001b[33;1m\u001b[1;3mAnswer: 10\u001b[0m\n",
      "Thought:\u001b[32;1m\u001b[1;3m I now know the final answer.\n",
      "Final Answer: There have been 10 presidents in Warsaw in independent Poland. The number raised to the power of 0.23 is approximately 1.272.\u001b[0m\n",
      "\n",
      "\u001b[1m> Finished chain.\u001b[0m\n",
      "Total Tokens: 3039\n",
      "Prompt Tokens: 2863\n",
      "Completion Tokens: 176\n",
      "Total Cost (USD): $0.0046465000000000005\n"
     ]
    }
   ],
   "source": [
    "with get_openai_callback() as cb:\n",
    "    response = agent.run(\n",
    "        \"Ilu było prezydentów Warszawy w niepodległej Polsce? Ile wynosi ta liczba podniesiona do potęgi 0.23?\"\n",
    "    )\n",
    "    print(f\"Total Tokens: {cb.total_tokens}\")\n",
    "    print(f\"Prompt Tokens: {cb.prompt_tokens}\")\n",
    "    print(f\"Completion Tokens: {cb.completion_tokens}\")\n",
    "    print(f\"Total Cost (USD): ${cb.total_cost}\")"
   ]
  }
 ],
 "metadata": {
  "kernelspec": {
   "display_name": "langchain",
   "language": "python",
   "name": "python3"
  },
  "language_info": {
   "codemirror_mode": {
    "name": "ipython",
    "version": 3
   },
   "file_extension": ".py",
   "mimetype": "text/x-python",
   "name": "python",
   "nbconvert_exporter": "python",
   "pygments_lexer": "ipython3",
   "version": "3.11.8"
  }
 },
 "nbformat": 4,
 "nbformat_minor": 2
}
